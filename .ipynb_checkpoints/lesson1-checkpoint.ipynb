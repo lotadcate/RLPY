{
 "cells": [
  {
   "cell_type": "code",
   "execution_count": 1,
   "id": "37918a7d-7778-413a-8cdf-de203aac7da1",
   "metadata": {},
   "outputs": [],
   "source": [
    "import numpy as np"
   ]
  },
  {
   "cell_type": "code",
   "execution_count": 3,
   "id": "3645b3eb-5b48-431f-9185-c648b7762237",
   "metadata": {},
   "outputs": [
    {
     "name": "stdout",
     "output_type": "stream",
     "text": [
      "Q: 0.5488135039273248\n",
      "Q: 0.6320014351498722\n",
      "Q: 0.6222554154571294\n",
      "Q: 0.6029123573420713\n",
      "Q: 0.567060845741438\n",
      "Q: 0.5801997236289743\n",
      "Q: 0.5598265075766483\n",
      "Q: 0.6013198192273272\n",
      "Q: 0.6415801460355164\n",
      "Q: 0.6157662833145425\n"
     ]
    }
   ],
   "source": [
    "np.random.seed(0)\n",
    "rewards = []\n",
    "\n",
    "# 報酬を10回える\n",
    "for n in range(1,11):\n",
    "    reward = np.random.rand()\n",
    "    rewards.append(reward)\n",
    "    Q = sum(rewards)/n # n回目の価値の推定値(=n個ある報酬の標本平均)\n",
    "    print(\"Q: {}\".format(Q))"
   ]
  },
  {
   "cell_type": "code",
   "execution_count": 4,
   "id": "f8c94562-6e1e-4b70-8252-cd47c3b7de4e",
   "metadata": {},
   "outputs": [
    {
     "name": "stdout",
     "output_type": "stream",
     "text": [
      "Q: 0.7917250380826646\n",
      "Q: 0.6603099789177845\n",
      "Q: 0.6295548396431672\n",
      "Q: 0.7035652893055406\n",
      "Q: 0.5770594430840099\n",
      "Q: 0.49540441918693173\n",
      "Q: 0.4275207017945595\n",
      "Q: 0.4781580947637318\n",
      "Q: 0.5114912787844116\n",
      "Q: 0.5473433657306523\n"
     ]
    }
   ],
   "source": [
    "# 効率の良い標本平均の求め方、式変形から直前の推定値があれば次の推定値が得られる\n",
    "Q = 0\n",
    "for n in range(1, 11):\n",
    "    reward = np.random.rand()\n",
    "    Q = Q + (reward-Q)/n\n",
    "    print(\"Q: {}\".format(Q))"
   ]
  },
  {
   "cell_type": "code",
   "execution_count": 5,
   "id": "3487da02-bd02-4957-8e93-3a414254bdcf",
   "metadata": {},
   "outputs": [],
   "source": [
    "# バンディット問題を解くアルゴリズム\n",
    "'''\n",
    "10個のマシン\n",
    "返すコインの枚数が1,0\n",
    "各マシンの勝つ確率が設定されている（勝率＝期待値=価値）\n",
    "プレイヤは勝率を知らないので経験から勝率の高いスロットマシンを探す\n",
    "'''\n",
    "class Bandit:\n",
    "    def __init__(self, arms=10):\n",
    "        self.rates = np.random.rand(arms) #マシンの勝率(1*10の配列\n",
    "\n",
    "    def play(self, arm):\n",
    "        rate = self.rates[arm]\n",
    "        if rate > np.random.rand(): #試行の再現\n",
    "            return 1\n",
    "        else:\n",
    "            return 0"
   ]
  },
  {
   "cell_type": "code",
   "execution_count": 7,
   "id": "84daa653-3386-4b4b-b014-3dbeb26cdf81",
   "metadata": {},
   "outputs": [
    {
     "name": "stdout",
     "output_type": "stream",
     "text": [
      "1\n",
      "0\n",
      "0\n"
     ]
    }
   ],
   "source": [
    "# 試し運転\n",
    "bandit = Bandit()\n",
    "for i in range(3):\n",
    "    print(bandit.play(0)) # 0番目のマシンをプレイ"
   ]
  },
  {
   "cell_type": "code",
   "execution_count": 10,
   "id": "d4584626-8b39-4532-8b2c-82bb80a0d639",
   "metadata": {},
   "outputs": [
    {
     "name": "stdout",
     "output_type": "stream",
     "text": [
      "Q[3]: 0.5473433657306523, count: 1.0\n",
      "Q[3]: 0.5473433657306523, count: 2.0\n",
      "Q[2]: 0.5473433657306523, count: 1.0\n",
      "Q[9]: 0.5473433657306523, count: 1.0\n",
      "Q[4]: 0.5473433657306523, count: 1.0\n",
      "Q[8]: 0.5473433657306523, count: 1.0\n",
      "Q[3]: 0.5473433657306523, count: 3.0\n",
      "Q[6]: 0.5473433657306523, count: 1.0\n",
      "Q[3]: 0.5473433657306523, count: 4.0\n",
      "Q[3]: 0.5473433657306523, count: 5.0\n"
     ]
    }
   ],
   "source": [
    "# 10台のマシンの価値の推定\n",
    "bandit = Bandit()\n",
    "Q_i = np.zeros(10)\n",
    "counts = np.zeros(10)\n",
    "\n",
    "for n in range(10):\n",
    "    action = np.random.randint(0,10) # Q_i[action]: action番目のマシン\n",
    "    reward = bandit.play(action)\n",
    "    \n",
    "    counts[action] += 1\n",
    "    Q_i[action] += (reward-Q_i[action])/counts[action]\n",
    "    print(\"Q[{}]: {}, count: {}\".format(action, Q, counts[action]))"
   ]
  },
  {
   "cell_type": "code",
   "execution_count": 11,
   "id": "93b693f2-c97c-4e9a-b590-8eb2efbc93e1",
   "metadata": {},
   "outputs": [],
   "source": [
    "# ε-greedyの実装\n",
    "class Agent:\n",
    "    def __init__(self, epsilon, action_size=10):\n",
    "        self.epsilon = epsilon\n",
    "        self.Qs = np.zeros(action_size)\n",
    "        self.ns = np.zeros(action_size)\n",
    "\n",
    "    def update(self, action, reward):\n",
    "        self.ns[action] += 1\n",
    "        self.Qs[action] += (reward-self.Qs[action])/self.ns[action]\n",
    "\n",
    "    def get_action(self):\n",
    "        if self.epsilon > np.random.rand(): # 探索\n",
    "            return np.random.randint(0, len(self.Qs)) # 違うマシンを選ぶ\n",
    "        else: # 活用\n",
    "            return np.argmax(self.Qs) # 報酬が一番大きいマシンを選ぶ"
   ]
  },
  {
   "cell_type": "code",
   "execution_count": null,
   "id": "d59e610e-9a0c-4ecf-be4d-a14b0b9ef2d5",
   "metadata": {},
   "outputs": [],
   "source": []
  }
 ],
 "metadata": {
  "kernelspec": {
   "display_name": "Python 3 (ipykernel)",
   "language": "python",
   "name": "python3"
  },
  "language_info": {
   "codemirror_mode": {
    "name": "ipython",
    "version": 3
   },
   "file_extension": ".py",
   "mimetype": "text/x-python",
   "name": "python",
   "nbconvert_exporter": "python",
   "pygments_lexer": "ipython3",
   "version": "3.12.3"
  }
 },
 "nbformat": 4,
 "nbformat_minor": 5
}
